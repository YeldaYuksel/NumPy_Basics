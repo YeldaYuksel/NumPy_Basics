{
 "cells": [
  {
   "cell_type": "markdown",
   "id": "1539e7d2",
   "metadata": {
    "papermill": {
     "duration": 0.004764,
     "end_time": "2024-08-30T23:15:48.133498",
     "exception": false,
     "start_time": "2024-08-30T23:15:48.128734",
     "status": "completed"
    },
    "tags": []
   },
   "source": [
    "**NumPy (Numerical Python)**\n",
    "\n",
    "- It is used for scientific calculations \n",
    "- It allows high performance work on arrays, multidimensional arrays and matrices.\n",
    "- It holds fixed data type"
   ]
  },
  {
   "cell_type": "code",
   "execution_count": 1,
   "id": "c2755237",
   "metadata": {
    "execution": {
     "iopub.execute_input": "2024-08-30T23:15:48.143598Z",
     "iopub.status.busy": "2024-08-30T23:15:48.143173Z",
     "iopub.status.idle": "2024-08-30T23:15:48.149136Z",
     "shell.execute_reply": "2024-08-30T23:15:48.147955Z"
    },
    "papermill": {
     "duration": 0.013807,
     "end_time": "2024-08-30T23:15:48.151556",
     "exception": false,
     "start_time": "2024-08-30T23:15:48.137749",
     "status": "completed"
    },
    "tags": []
   },
   "outputs": [],
   "source": [
    "#### Importing NumPy Library ####\n",
    "\n",
    "#import numpy as np"
   ]
  },
  {
   "cell_type": "markdown",
   "id": "f128cd27",
   "metadata": {
    "papermill": {
     "duration": 0.003779,
     "end_time": "2024-08-30T23:15:48.159564",
     "exception": false,
     "start_time": "2024-08-30T23:15:48.155785",
     "status": "completed"
    },
    "tags": []
   },
   "source": [
    "**Multiplying Elements of Two Lists: Comparing Classic Python Method and NumPy Array**"
   ]
  },
  {
   "cell_type": "code",
   "execution_count": 2,
   "id": "3d248ef9",
   "metadata": {
    "execution": {
     "iopub.execute_input": "2024-08-30T23:15:48.169766Z",
     "iopub.status.busy": "2024-08-30T23:15:48.168889Z",
     "iopub.status.idle": "2024-08-30T23:15:48.174221Z",
     "shell.execute_reply": "2024-08-30T23:15:48.173139Z"
    },
    "papermill": {
     "duration": 0.013044,
     "end_time": "2024-08-30T23:15:48.176588",
     "exception": false,
     "start_time": "2024-08-30T23:15:48.163544",
     "status": "completed"
    },
    "tags": []
   },
   "outputs": [],
   "source": [
    "###### Classic Python Method\n",
    "\n",
    "#a = [1, 2, 3, 4]\n",
    "#b = [2, 3, 4, 5]\n",
    "\n",
    "#ab = []\n",
    "\n",
    "#for i in range(0, len(a)): #create a range \n",
    "#    ab.append(a[i] * b[i]) #multiply the elements, and append it to ab\n",
    "\n",
    "#print(ab) ##output: [2, 6, 12, 20]\n",
    "\n",
    "\n",
    "###### Same Operation with NumPY\n",
    "\n",
    "###convert the lists to NumPy array, then use a * b\n",
    "\n",
    "#a = np.array([1, 2, 3, 4])\n",
    "#b = np.array([2, 3, 4, 5])\n",
    "\n",
    "#a * b ##output: [2, 6, 12, 20]"
   ]
  },
  {
   "cell_type": "markdown",
   "id": "d4327df4",
   "metadata": {
    "papermill": {
     "duration": 0.003752,
     "end_time": "2024-08-30T23:15:48.184396",
     "exception": false,
     "start_time": "2024-08-30T23:15:48.180644",
     "status": "completed"
    },
    "tags": []
   },
   "source": [
    "**Creating NumPy Arrays**"
   ]
  },
  {
   "cell_type": "code",
   "execution_count": 3,
   "id": "9da4561a",
   "metadata": {
    "execution": {
     "iopub.execute_input": "2024-08-30T23:15:48.194171Z",
     "iopub.status.busy": "2024-08-30T23:15:48.193420Z",
     "iopub.status.idle": "2024-08-30T23:15:48.199325Z",
     "shell.execute_reply": "2024-08-30T23:15:48.198042Z"
    },
    "papermill": {
     "duration": 0.01373,
     "end_time": "2024-08-30T23:15:48.202043",
     "exception": false,
     "start_time": "2024-08-30T23:15:48.188313",
     "status": "completed"
    },
    "tags": []
   },
   "outputs": [],
   "source": [
    "#import numpy as np\n",
    "\n",
    "#np.array([1, 2, 3, 4])\n",
    "\n",
    "#type(np.array([1, 2, 3, 4])) ##output: numpy.ndarray\n",
    "\n",
    "\n",
    "\n",
    "## Creating an Array of Zeros with Type int\n",
    "\n",
    "#np.zeros(3, dtype=int) ##output: array([0, 0, 0])\n",
    "\n",
    "\n",
    "\n",
    "\n",
    "## Creating a 2D array with a specific shape\n",
    "\n",
    "#matrix = np.zeros((4, 4))\n",
    "\n",
    "##output: array([[0., 0., 0., 0.],\n",
    "##       [0., 0., 0., 0.],\n",
    "##       [0., 0., 0., 0.],\n",
    "##       [0., 0., 0., 0.]])\n",
    "\n",
    "\n",
    "\n",
    "##Creating an array of 10 random integers between 0 and 10\n",
    "\n",
    "#np.random.randint(0, 10, size=10) \n",
    "\n",
    "##output: array([9, 1, 3, 7, 6, 1, 1, 6, 4, 4])\n",
    "\n",
    "\n",
    "\n",
    "\n",
    "##Testing array for matrix operations\n",
    "\n",
    "#test_matrix = np.array([[1, 2], [3, 4]])\n",
    "\n",
    "##output: array([[1, 2],\n",
    "##       [3, 4]])\n",
    "\n",
    "\n",
    "\n",
    "\n",
    "\n",
    "##Preallocating an array for storing results in a loop\n",
    "\n",
    "#result_array = np.zeros(1000) \n",
    "##output: 1,000 elements array([0., 0., .......\n"
   ]
  },
  {
   "cell_type": "markdown",
   "id": "02c99287",
   "metadata": {
    "papermill": {
     "duration": 0.003798,
     "end_time": "2024-08-30T23:15:48.210093",
     "exception": false,
     "start_time": "2024-08-30T23:15:48.206295",
     "status": "completed"
    },
    "tags": []
   },
   "source": [
    "**Attributes of NumPy Arrays**\n",
    "\n",
    "ndim:  -dimension info(1D, 2D, 3D)\n",
    "\n",
    "shape: -size of each dimension(rows & columns for 2D)\n",
    "\n",
    "size:  -total number of elements\n",
    "\n",
    "dtype: -data type of elements"
   ]
  },
  {
   "cell_type": "code",
   "execution_count": 4,
   "id": "1283514f",
   "metadata": {
    "execution": {
     "iopub.execute_input": "2024-08-30T23:15:48.219997Z",
     "iopub.status.busy": "2024-08-30T23:15:48.219617Z",
     "iopub.status.idle": "2024-08-30T23:15:48.224586Z",
     "shell.execute_reply": "2024-08-30T23:15:48.223270Z"
    },
    "papermill": {
     "duration": 0.013067,
     "end_time": "2024-08-30T23:15:48.227297",
     "exception": false,
     "start_time": "2024-08-30T23:15:48.214230",
     "status": "completed"
    },
    "tags": []
   },
   "outputs": [],
   "source": [
    "#a = np.random.randint(10, size=5)\n",
    "\n",
    "#a.ndim ##output: 1\n",
    "#a.shape ##output: (5,)\n",
    "#a.size ##output: 5\n",
    "#a.dtype ##output: dtype('int64')"
   ]
  },
  {
   "cell_type": "markdown",
   "id": "01f2fdc7",
   "metadata": {
    "papermill": {
     "duration": 0.003883,
     "end_time": "2024-08-30T23:15:48.235314",
     "exception": false,
     "start_time": "2024-08-30T23:15:48.231431",
     "status": "completed"
    },
    "tags": []
   },
   "source": [
    "**RESHAPING**\n",
    "\n",
    "The reshaping method is used when you want to change the size of a NumPy array."
   ]
  },
  {
   "cell_type": "code",
   "execution_count": 5,
   "id": "0554e800",
   "metadata": {
    "execution": {
     "iopub.execute_input": "2024-08-30T23:15:48.245473Z",
     "iopub.status.busy": "2024-08-30T23:15:48.245006Z",
     "iopub.status.idle": "2024-08-30T23:15:48.250335Z",
     "shell.execute_reply": "2024-08-30T23:15:48.249026Z"
    },
    "papermill": {
     "duration": 0.013274,
     "end_time": "2024-08-30T23:15:48.252725",
     "exception": false,
     "start_time": "2024-08-30T23:15:48.239451",
     "status": "completed"
    },
    "tags": []
   },
   "outputs": [],
   "source": [
    "## Converting a 1D array to a 2D matrix with 3 rows and columns ##\n",
    "\n",
    "#np.random.randint(1, 10, size=9)\n",
    "#np.random.randint(1, 10, size=9).reshape(3, 3) \n",
    "\n",
    "\n",
    "\n",
    "## with assigning to a variable ##\n",
    "\n",
    "#ar = np.random.randint(1, 10, size=9)\n",
    "#ar.reshape(3, 3)\n"
   ]
  },
  {
   "cell_type": "markdown",
   "id": "ae5c05bc",
   "metadata": {
    "papermill": {
     "duration": 0.003741,
     "end_time": "2024-08-30T23:15:48.260658",
     "exception": false,
     "start_time": "2024-08-30T23:15:48.256917",
     "status": "completed"
    },
    "tags": []
   },
   "source": [
    "**Index Selection and Fancy Indexing**\n",
    "\n"
   ]
  },
  {
   "cell_type": "code",
   "execution_count": 6,
   "id": "86385bba",
   "metadata": {
    "execution": {
     "iopub.execute_input": "2024-08-30T23:15:48.271521Z",
     "iopub.status.busy": "2024-08-30T23:15:48.270486Z",
     "iopub.status.idle": "2024-08-30T23:15:48.277283Z",
     "shell.execute_reply": "2024-08-30T23:15:48.275570Z"
    },
    "papermill": {
     "duration": 0.016805,
     "end_time": "2024-08-30T23:15:48.281540",
     "exception": false,
     "start_time": "2024-08-30T23:15:48.264735",
     "status": "completed"
    },
    "tags": []
   },
   "outputs": [],
   "source": [
    "## Index selection on 1D array ##\n",
    "\n",
    "#a = np.random.randint(10, size=10) #1D array\n",
    "\n",
    "#a[0] ##output: first element of the array\n",
    "#a[0:5]  ##output: first 5 elements  - slicing method -\n",
    "#a[0] = 999 ##changing the first element\n",
    "\n",
    "\n",
    "\n",
    "\n",
    "## Index selection on 2D array ##\n",
    "\n",
    "#m = np.random.randint(10, size=(3, 5)) #2D array\n",
    "#m[0, 0] ##output: element on the first row & column\n",
    "\n",
    "### slicing method on 2D ###\n",
    "\n",
    "#m[:, 0]        ## select all rows and first column\n",
    "#m[1, :]        ## select second row and all columns\n",
    "\n",
    "\n",
    "\n",
    "\n",
    "\n",
    "## Fancy Index Example##\n",
    "\n",
    "#v = np.arange(0, 30, 3)  # Create a NumPy array with values from 0 to 27, with a step of 3\n",
    "\n",
    "\n",
    "#catch = [1, 2, 3]  # Define an array of indices\n",
    "\n",
    "#v[catch] # Use fancy indexing to select elements from the array 'v'\n",
    "\n",
    "\n",
    "#v[catch] = [30, 60, 90] # Use fancy indexing to modify elements"
   ]
  },
  {
   "cell_type": "markdown",
   "id": "dcb41527",
   "metadata": {
    "papermill": {
     "duration": 0.004269,
     "end_time": "2024-08-30T23:15:48.291832",
     "exception": false,
     "start_time": "2024-08-30T23:15:48.287563",
     "status": "completed"
    },
    "tags": []
   },
   "source": [
    "**Conditions on NumPy**"
   ]
  },
  {
   "cell_type": "code",
   "execution_count": 7,
   "id": "5f99eaa0",
   "metadata": {
    "execution": {
     "iopub.execute_input": "2024-08-30T23:15:48.302086Z",
     "iopub.status.busy": "2024-08-30T23:15:48.301679Z",
     "iopub.status.idle": "2024-08-30T23:15:48.306914Z",
     "shell.execute_reply": "2024-08-30T23:15:48.305528Z"
    },
    "papermill": {
     "duration": 0.013502,
     "end_time": "2024-08-30T23:15:48.309596",
     "exception": false,
     "start_time": "2024-08-30T23:15:48.296094",
     "status": "completed"
    },
    "tags": []
   },
   "outputs": [],
   "source": [
    "############ with Loops\n",
    "\n",
    "\n",
    "\n",
    "\n",
    "#v = np.array([1, 2, 3, 4, 5])\n",
    "\n",
    "#ab = []\n",
    "#for i in v:           ## Loop through each element in the array 'v'\n",
    "#    if i < 3:         ## Check if the current element 'i' is less than 3\n",
    "#        ab.append(i)  ## If the condition is True, append the element to the list 'ab'\n",
    "#print(ab)             ##output: [1, 2]\n",
    "\n",
    "\n",
    "\n",
    "\n",
    "\n",
    "############ with NumPY\n",
    "\n",
    "#v = np.array([1, 2, 3, 4, 5])\n",
    "\n",
    "#v[v < 3] ##output: array([1, 2])\n"
   ]
  },
  {
   "cell_type": "markdown",
   "id": "53d35a16",
   "metadata": {
    "papermill": {
     "duration": 0.00384,
     "end_time": "2024-08-30T23:15:48.317588",
     "exception": false,
     "start_time": "2024-08-30T23:15:48.313748",
     "status": "completed"
    },
    "tags": []
   },
   "source": [
    "**Mathematical Operations on NumPy**"
   ]
  },
  {
   "cell_type": "code",
   "execution_count": 8,
   "id": "c3d1e61c",
   "metadata": {
    "execution": {
     "iopub.execute_input": "2024-08-30T23:15:48.327572Z",
     "iopub.status.busy": "2024-08-30T23:15:48.327109Z",
     "iopub.status.idle": "2024-08-30T23:15:48.332708Z",
     "shell.execute_reply": "2024-08-30T23:15:48.331657Z"
    },
    "papermill": {
     "duration": 0.013541,
     "end_time": "2024-08-30T23:15:48.335224",
     "exception": false,
     "start_time": "2024-08-30T23:15:48.321683",
     "status": "completed"
    },
    "tags": []
   },
   "outputs": [],
   "source": [
    "#v = np.array([1, 2, 3, 4, 5])\n",
    "\n",
    "## with operators:\n",
    "\n",
    "#v / 5             ##output: array([0.2, 0.4, 0.6, 0.8, 1. ])   - divides each element\n",
    "#v * 5 / 10        ##output: array([0.5, 1. , 1.5, 2. , 2.5])   - multiplies, then divides each element\n",
    "#v ** 2            ##output: array([ 1,  4,  9, 16, 25])        - squares each element\n",
    "#v - 1             ##output: array([0, 1, 2, 3, 4])             - subtracts 1 from each element\n",
    "\n",
    "## with methods:\n",
    "\n",
    "#np.subtract(v, 1) ##output: array([0, 1, 2, 3, 4])  - subtracts 1 from each element\n",
    "#np.add(v, 1)      ##output: array([2, 3, 4, 5, 6])  - adds 1 to each element\n",
    "#np.mean(v)        ##output: 3.0                     - gives mean value of array v\n",
    "#np.sum(v)         ##output: 15                      - sums the elements of array v\n",
    "#np.min(v)         ##output: 1                       - gives minimum value of array v\n",
    "#np.max(v)         ##output: 5                       - gives maximum value of array v\n",
    "#np.var(v)         ##output: 2.0                     - gives variance of array v"
   ]
  }
 ],
 "metadata": {
  "kaggle": {
   "accelerator": "none",
   "dataSources": [],
   "dockerImageVersionId": 30761,
   "isGpuEnabled": false,
   "isInternetEnabled": false,
   "language": "python",
   "sourceType": "notebook"
  },
  "kernelspec": {
   "display_name": "Python 3",
   "language": "python",
   "name": "python3"
  },
  "language_info": {
   "codemirror_mode": {
    "name": "ipython",
    "version": 3
   },
   "file_extension": ".py",
   "mimetype": "text/x-python",
   "name": "python",
   "nbconvert_exporter": "python",
   "pygments_lexer": "ipython3",
   "version": "3.10.14"
  },
  "papermill": {
   "default_parameters": {},
   "duration": 3.530954,
   "end_time": "2024-08-30T23:15:48.759186",
   "environment_variables": {},
   "exception": null,
   "input_path": "__notebook__.ipynb",
   "output_path": "__notebook__.ipynb",
   "parameters": {},
   "start_time": "2024-08-30T23:15:45.228232",
   "version": "2.6.0"
  }
 },
 "nbformat": 4,
 "nbformat_minor": 5
}
