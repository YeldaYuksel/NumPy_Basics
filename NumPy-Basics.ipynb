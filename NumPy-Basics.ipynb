{
 "cells": [
  {
   "cell_type": "markdown",
   "id": "01b4fff4",
   "metadata": {
    "papermill": {
     "duration": 0.00671,
     "end_time": "2024-09-11T13:04:40.835577",
     "exception": false,
     "start_time": "2024-09-11T13:04:40.828867",
     "status": "completed"
    },
    "tags": []
   },
   "source": [
    "**NumPy (Numerical Python)**\n",
    "\n",
    "- It is used for scientific calculations \n",
    "- It allows high performance work on arrays, multidimensional arrays and matrices.\n",
    "- It holds fixed data type"
   ]
  },
  {
   "cell_type": "code",
   "execution_count": 1,
   "id": "2490cf53",
   "metadata": {
    "execution": {
     "iopub.execute_input": "2024-09-11T13:04:40.850714Z",
     "iopub.status.busy": "2024-09-11T13:04:40.850174Z",
     "iopub.status.idle": "2024-09-11T13:04:40.864027Z",
     "shell.execute_reply": "2024-09-11T13:04:40.862707Z"
    },
    "papermill": {
     "duration": 0.024661,
     "end_time": "2024-09-11T13:04:40.867369",
     "exception": false,
     "start_time": "2024-09-11T13:04:40.842708",
     "status": "completed"
    },
    "tags": []
   },
   "outputs": [],
   "source": [
    "#### Importing NumPy Library ####\n",
    "\n",
    "import numpy as np"
   ]
  },
  {
   "cell_type": "markdown",
   "id": "a59e1349",
   "metadata": {
    "papermill": {
     "duration": 0.005438,
     "end_time": "2024-09-11T13:04:40.878918",
     "exception": false,
     "start_time": "2024-09-11T13:04:40.873480",
     "status": "completed"
    },
    "tags": []
   },
   "source": [
    "**Multiplying Elements of Two Lists: Comparing Classic Python Method and NumPy Array**"
   ]
  },
  {
   "cell_type": "code",
   "execution_count": 2,
   "id": "f6ad769f",
   "metadata": {
    "execution": {
     "iopub.execute_input": "2024-09-11T13:04:40.892866Z",
     "iopub.status.busy": "2024-09-11T13:04:40.892344Z",
     "iopub.status.idle": "2024-09-11T13:04:40.910376Z",
     "shell.execute_reply": "2024-09-11T13:04:40.908642Z"
    },
    "papermill": {
     "duration": 0.029005,
     "end_time": "2024-09-11T13:04:40.913753",
     "exception": false,
     "start_time": "2024-09-11T13:04:40.884748",
     "status": "completed"
    },
    "tags": []
   },
   "outputs": [
    {
     "name": "stdout",
     "output_type": "stream",
     "text": [
      "[2, 6, 12, 20]\n"
     ]
    },
    {
     "data": {
      "text/plain": [
       "array([ 2,  6, 12, 20])"
      ]
     },
     "execution_count": 2,
     "metadata": {},
     "output_type": "execute_result"
    }
   ],
   "source": [
    "###### Classic Python Method\n",
    "\n",
    "a = [1, 2, 3, 4]\n",
    "b = [2, 3, 4, 5]\n",
    "\n",
    "ab = []\n",
    "\n",
    "for i in range(0, len(a)): #create a range \n",
    "    ab.append(a[i] * b[i]) #multiply the elements, and append it to ab\n",
    "\n",
    "print(ab) ##output: [2, 6, 12, 20]\n",
    "\n",
    "\n",
    "###### Same Operation with NumPY\n",
    "\n",
    "###convert the lists to NumPy array, then use a * b\n",
    "\n",
    "a = np.array([1, 2, 3, 4])\n",
    "b = np.array([2, 3, 4, 5])\n",
    "\n",
    "a * b ##output: [2, 6, 12, 20]"
   ]
  },
  {
   "cell_type": "markdown",
   "id": "4cd5c5d5",
   "metadata": {
    "papermill": {
     "duration": 0.005696,
     "end_time": "2024-09-11T13:04:40.925785",
     "exception": false,
     "start_time": "2024-09-11T13:04:40.920089",
     "status": "completed"
    },
    "tags": []
   },
   "source": [
    "**Creating NumPy Arrays**"
   ]
  },
  {
   "cell_type": "code",
   "execution_count": 3,
   "id": "f75e0744",
   "metadata": {
    "execution": {
     "iopub.execute_input": "2024-09-11T13:04:40.940529Z",
     "iopub.status.busy": "2024-09-11T13:04:40.939530Z",
     "iopub.status.idle": "2024-09-11T13:04:40.949049Z",
     "shell.execute_reply": "2024-09-11T13:04:40.947830Z"
    },
    "papermill": {
     "duration": 0.02004,
     "end_time": "2024-09-11T13:04:40.951878",
     "exception": false,
     "start_time": "2024-09-11T13:04:40.931838",
     "status": "completed"
    },
    "tags": []
   },
   "outputs": [],
   "source": [
    "import numpy as np\n",
    "\n",
    "np.array([1, 2, 3, 4])\n",
    "\n",
    "type(np.array([1, 2, 3, 4])) ##output: numpy.ndarray\n",
    "\n",
    "\n",
    "\n",
    "## Creating an Array of Zeros with Type int\n",
    "\n",
    "np.zeros(3, dtype=int) ##output: array([0, 0, 0])\n",
    "\n",
    "\n",
    "\n",
    "\n",
    "## Creating a 2D array with a specific shape\n",
    "\n",
    "matrix = np.zeros((4, 4))\n",
    "\n",
    "##output: array([[0., 0., 0., 0.],\n",
    "##       [0., 0., 0., 0.],\n",
    "##       [0., 0., 0., 0.],\n",
    "##       [0., 0., 0., 0.]])\n",
    "\n",
    "\n",
    "\n",
    "##Creating an array of 10 random integers between 0 and 10\n",
    "\n",
    "np.random.randint(0, 10, size=10) \n",
    "\n",
    "##output: array([9, 1, 3, 7, 6, 1, 1, 6, 4, 4])\n",
    "\n",
    "\n",
    "\n",
    "\n",
    "##Testing array for matrix operations\n",
    "\n",
    "test_matrix = np.array([[1, 2], [3, 4]])\n",
    "\n",
    "##output: array([[1, 2],\n",
    "##       [3, 4]])\n",
    "\n",
    "\n",
    "\n",
    "\n",
    "\n",
    "##Preallocating an array for storing results in a loop\n",
    "\n",
    "result_array = np.zeros(1000) \n",
    "##output: 1,000 elements array([0., 0., .......\n"
   ]
  },
  {
   "cell_type": "markdown",
   "id": "bf4567f4",
   "metadata": {
    "papermill": {
     "duration": 0.006081,
     "end_time": "2024-09-11T13:04:40.964528",
     "exception": false,
     "start_time": "2024-09-11T13:04:40.958447",
     "status": "completed"
    },
    "tags": []
   },
   "source": [
    "**Attributes of NumPy Arrays**\n",
    "\n",
    "ndim:  -dimension info(1D, 2D, 3D)\n",
    "\n",
    "shape: -size of each dimension(rows & columns for 2D)\n",
    "\n",
    "size:  -total number of elements\n",
    "\n",
    "dtype: -data type of elements"
   ]
  },
  {
   "cell_type": "code",
   "execution_count": 4,
   "id": "b63a9a45",
   "metadata": {
    "execution": {
     "iopub.execute_input": "2024-09-11T13:04:40.983403Z",
     "iopub.status.busy": "2024-09-11T13:04:40.982362Z",
     "iopub.status.idle": "2024-09-11T13:04:40.996505Z",
     "shell.execute_reply": "2024-09-11T13:04:40.994790Z"
    },
    "papermill": {
     "duration": 0.026938,
     "end_time": "2024-09-11T13:04:40.999796",
     "exception": false,
     "start_time": "2024-09-11T13:04:40.972858",
     "status": "completed"
    },
    "tags": []
   },
   "outputs": [
    {
     "data": {
      "text/plain": [
       "dtype('int64')"
      ]
     },
     "execution_count": 4,
     "metadata": {},
     "output_type": "execute_result"
    }
   ],
   "source": [
    "a = np.random.randint(10, size=5)\n",
    "\n",
    "a.ndim ##output: 1\n",
    "a.shape ##output: (5,)\n",
    "a.size ##output: 5\n",
    "a.dtype ##output: dtype('int64')"
   ]
  },
  {
   "cell_type": "markdown",
   "id": "3b09cb47",
   "metadata": {
    "papermill": {
     "duration": 0.009702,
     "end_time": "2024-09-11T13:04:41.017443",
     "exception": false,
     "start_time": "2024-09-11T13:04:41.007741",
     "status": "completed"
    },
    "tags": []
   },
   "source": [
    "**RESHAPING**\n",
    "\n",
    "The reshaping method is used when you want to change the size of a NumPy array."
   ]
  },
  {
   "cell_type": "code",
   "execution_count": 5,
   "id": "1022c0d5",
   "metadata": {
    "execution": {
     "iopub.execute_input": "2024-09-11T13:04:41.033347Z",
     "iopub.status.busy": "2024-09-11T13:04:41.032784Z",
     "iopub.status.idle": "2024-09-11T13:04:41.044495Z",
     "shell.execute_reply": "2024-09-11T13:04:41.042986Z"
    },
    "papermill": {
     "duration": 0.023234,
     "end_time": "2024-09-11T13:04:41.047684",
     "exception": false,
     "start_time": "2024-09-11T13:04:41.024450",
     "status": "completed"
    },
    "tags": []
   },
   "outputs": [
    {
     "data": {
      "text/plain": [
       "array([[7, 6, 7],\n",
       "       [5, 8, 8],\n",
       "       [5, 9, 9]])"
      ]
     },
     "execution_count": 5,
     "metadata": {},
     "output_type": "execute_result"
    }
   ],
   "source": [
    "## Converting a 1D array to a 2D matrix with 3 rows and columns ##\n",
    "\n",
    "np.random.randint(1, 10, size=9)\n",
    "np.random.randint(1, 10, size=9).reshape(3, 3) \n",
    "\n",
    "\n",
    "\n",
    "## with assigning to a variable ##\n",
    "\n",
    "ar = np.random.randint(1, 10, size=9)\n",
    "ar.reshape(3, 3)\n"
   ]
  },
  {
   "cell_type": "markdown",
   "id": "4c1ebe7a",
   "metadata": {
    "papermill": {
     "duration": 0.0062,
     "end_time": "2024-09-11T13:04:41.060496",
     "exception": false,
     "start_time": "2024-09-11T13:04:41.054296",
     "status": "completed"
    },
    "tags": []
   },
   "source": [
    "**Index Selection and Fancy Indexing**\n",
    "\n"
   ]
  },
  {
   "cell_type": "code",
   "execution_count": 6,
   "id": "6f961a65",
   "metadata": {
    "execution": {
     "iopub.execute_input": "2024-09-11T13:04:41.079424Z",
     "iopub.status.busy": "2024-09-11T13:04:41.078452Z",
     "iopub.status.idle": "2024-09-11T13:04:41.088559Z",
     "shell.execute_reply": "2024-09-11T13:04:41.087177Z"
    },
    "papermill": {
     "duration": 0.024041,
     "end_time": "2024-09-11T13:04:41.092539",
     "exception": false,
     "start_time": "2024-09-11T13:04:41.068498",
     "status": "completed"
    },
    "tags": []
   },
   "outputs": [],
   "source": [
    "## Index selection on 1D array ##\n",
    "\n",
    "a = np.random.randint(10, size=10) #1D array\n",
    "\n",
    "a[0] ##output: first element of the array\n",
    "a[0:5]  ##output: first 5 elements  - slicing method -\n",
    "a[0] = 999 ##changing the first element\n",
    "\n",
    "\n",
    "\n",
    "\n",
    "## Index selection on 2D array ##\n",
    "\n",
    "m = np.random.randint(10, size=(3, 5)) #2D array\n",
    "m[0, 0] ##output: element on the first row & column\n",
    "\n",
    "### slicing method on 2D ###\n",
    "\n",
    "m[:, 0]        ## select all rows and first column\n",
    "m[1, :]        ## select second row and all columns\n",
    "\n",
    "\n",
    "\n",
    "## Fancy Index Example##\n",
    "\n",
    "v = np.arange(0, 30, 3)  # Create a NumPy array with values from 0 to 27, with a step of 3\n",
    "\n",
    "\n",
    "catch = [1, 2, 3]  # Define an array of indices\n",
    "\n",
    "v[catch] # Use fancy indexing to select elements from the array 'v'\n",
    "\n",
    "\n",
    "v[catch] = [30, 60, 90] # Use fancy indexing to modify elements"
   ]
  },
  {
   "cell_type": "markdown",
   "id": "294c845a",
   "metadata": {
    "papermill": {
     "duration": 0.006813,
     "end_time": "2024-09-11T13:04:41.106490",
     "exception": false,
     "start_time": "2024-09-11T13:04:41.099677",
     "status": "completed"
    },
    "tags": []
   },
   "source": [
    "**Conditions on NumPy**"
   ]
  },
  {
   "cell_type": "code",
   "execution_count": 7,
   "id": "78f0e39e",
   "metadata": {
    "execution": {
     "iopub.execute_input": "2024-09-11T13:04:41.124572Z",
     "iopub.status.busy": "2024-09-11T13:04:41.122541Z",
     "iopub.status.idle": "2024-09-11T13:04:41.137977Z",
     "shell.execute_reply": "2024-09-11T13:04:41.135406Z"
    },
    "papermill": {
     "duration": 0.02755,
     "end_time": "2024-09-11T13:04:41.141076",
     "exception": false,
     "start_time": "2024-09-11T13:04:41.113526",
     "status": "completed"
    },
    "tags": []
   },
   "outputs": [
    {
     "name": "stdout",
     "output_type": "stream",
     "text": [
      "[1, 2]\n"
     ]
    },
    {
     "data": {
      "text/plain": [
       "array([1, 2])"
      ]
     },
     "execution_count": 7,
     "metadata": {},
     "output_type": "execute_result"
    }
   ],
   "source": [
    "############ with Loops\n",
    "\n",
    "\n",
    "\n",
    "\n",
    "v = np.array([1, 2, 3, 4, 5])\n",
    "\n",
    "ab = []\n",
    "for i in v:           ## Loop through each element in the array 'v'\n",
    "    if i < 3:         ## Check if the current element 'i' is less than 3\n",
    "        ab.append(i)  ## If the condition is True, append the element to the list 'ab'\n",
    "print(ab)             ##output: [1, 2]\n",
    "\n",
    "\n",
    "\n",
    "\n",
    "\n",
    "############ with NumPY\n",
    "\n",
    "v = np.array([1, 2, 3, 4, 5])\n",
    "\n",
    "v[v < 3] ##output: array([1, 2])\n"
   ]
  },
  {
   "cell_type": "markdown",
   "id": "87976c04",
   "metadata": {
    "papermill": {
     "duration": 0.008133,
     "end_time": "2024-09-11T13:04:41.157407",
     "exception": false,
     "start_time": "2024-09-11T13:04:41.149274",
     "status": "completed"
    },
    "tags": []
   },
   "source": [
    "**Mathematical Operations on NumPy**"
   ]
  },
  {
   "cell_type": "code",
   "execution_count": 8,
   "id": "c27718c1",
   "metadata": {
    "execution": {
     "iopub.execute_input": "2024-09-11T13:04:41.175496Z",
     "iopub.status.busy": "2024-09-11T13:04:41.174022Z",
     "iopub.status.idle": "2024-09-11T13:04:41.188577Z",
     "shell.execute_reply": "2024-09-11T13:04:41.187256Z"
    },
    "papermill": {
     "duration": 0.027047,
     "end_time": "2024-09-11T13:04:41.191927",
     "exception": false,
     "start_time": "2024-09-11T13:04:41.164880",
     "status": "completed"
    },
    "tags": []
   },
   "outputs": [
    {
     "data": {
      "text/plain": [
       "2.0"
      ]
     },
     "execution_count": 8,
     "metadata": {},
     "output_type": "execute_result"
    }
   ],
   "source": [
    "v = np.array([1, 2, 3, 4, 5])\n",
    "\n",
    "## with operators:\n",
    "\n",
    "v / 5             ##output: array([0.2, 0.4, 0.6, 0.8, 1. ])   - divides each element\n",
    "v * 5 / 10        ##output: array([0.5, 1. , 1.5, 2. , 2.5])   - multiplies, then divides each element\n",
    "v ** 2            ##output: array([ 1,  4,  9, 16, 25])        - squares each element\n",
    "v - 1             ##output: array([0, 1, 2, 3, 4])             - subtracts 1 from each element\n",
    "\n",
    "## with methods:\n",
    "\n",
    "np.subtract(v, 1) ##output: array([0, 1, 2, 3, 4])  - subtracts 1 from each element\n",
    "np.add(v, 1)      ##output: array([2, 3, 4, 5, 6])  - adds 1 to each element\n",
    "np.mean(v)        ##output: 3.0                     - gives mean value of array v\n",
    "np.sum(v)         ##output: 15                      - sums the elements of array v\n",
    "np.min(v)         ##output: 1                       - gives minimum value of array v\n",
    "np.max(v)         ##output: 5                       - gives maximum value of array v\n",
    "np.var(v)         ##output: 2.0                     - gives variance of array v"
   ]
  }
 ],
 "metadata": {
  "kaggle": {
   "accelerator": "none",
   "dataSources": [],
   "dockerImageVersionId": 30761,
   "isGpuEnabled": false,
   "isInternetEnabled": false,
   "language": "python",
   "sourceType": "notebook"
  },
  "kernelspec": {
   "display_name": "Python 3",
   "language": "python",
   "name": "python3"
  },
  "language_info": {
   "codemirror_mode": {
    "name": "ipython",
    "version": 3
   },
   "file_extension": ".py",
   "mimetype": "text/x-python",
   "name": "python",
   "nbconvert_exporter": "python",
   "pygments_lexer": "ipython3",
   "version": "3.10.14"
  },
  "papermill": {
   "default_parameters": {},
   "duration": 4.407441,
   "end_time": "2024-09-11T13:04:41.825931",
   "environment_variables": {},
   "exception": null,
   "input_path": "__notebook__.ipynb",
   "output_path": "__notebook__.ipynb",
   "parameters": {},
   "start_time": "2024-09-11T13:04:37.418490",
   "version": "2.6.0"
  }
 },
 "nbformat": 4,
 "nbformat_minor": 5
}
